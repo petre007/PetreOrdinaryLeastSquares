{
 "cells": [
  {
   "cell_type": "code",
   "execution_count": 171,
   "id": "9c3c9f2b",
   "metadata": {},
   "outputs": [],
   "source": [
    "import numpy as np\n",
    "import matplotlib.pyplot as plt \n",
    "import pandas as pd"
   ]
  },
  {
   "cell_type": "markdown",
   "id": "6873bee1",
   "metadata": {},
   "source": [
    "# The least squares method\n",
    "\n",
    "This method of linear regression is based on the minimum distances between 2 points on a 2D space.\n",
    "\n",
    "y = a * X + b -> the function of simple linear regression\n",
    "\n",
    "a, b -> this coefficients need to be find in order to determine the graph based on X and y\n",
    "       \n",
    "'a' is also the slope of the function\n",
    "\n",
    "Mean -> the arithmetic mean between the points\n",
    "\n",
    "Standard deviation ->  the average difference between the points and the mean\n",
    "\n",
    "Standard variance -> the average diffrence between the square of the points and the mean"
   ]
  },
  {
   "cell_type": "code",
   "execution_count": 172,
   "id": "607e8a48",
   "metadata": {},
   "outputs": [],
   "source": [
    "# Inputs \n",
    "X = np.array([120, 150, 180, 200, 250, 300, 320, 340, 380, 400, 450, 500, 550, 600, 650, 700, 750, 800])"
   ]
  },
  {
   "cell_type": "code",
   "execution_count": 173,
   "id": "c4c46b23",
   "metadata": {},
   "outputs": [],
   "source": [
    "# Outputs\n",
    "y = np.array([13, 17, 20, 25, 30, 34, 35, 39, 41, 44, 50, 53, 58, 62, 66, 69, 72, 78])"
   ]
  },
  {
   "cell_type": "code",
   "execution_count": 174,
   "id": "9ebe4fa9",
   "metadata": {},
   "outputs": [
    {
     "data": {
      "image/png": "[encoded data removed]",
      "text/plain": [
       "<Figure size 432x288 with 1 Axes>"
      ]
     },
     "metadata": {
      "needs_background": "light"
     },
     "output_type": "display_data"
    }
   ],
   "source": [
    "# Plotting the points on a graph in order to see the points distribution on plane\n",
    "plt.plot(X, y, '*');"
   ]
  },
  {
   "cell_type": "code",
   "execution_count": 175,
   "id": "0799e7c1",
   "metadata": {},
   "outputs": [],
   "source": [
    "### Calculating the 3 most importants parameters\n",
    "\n",
    "#Average value\n",
    "X_avg = np.mean(X) \n",
    "y_avg = np.mean(y)\n",
    "\n",
    "#Standard deviation\n",
    "X_std = np.std(X)\n",
    "y_std = np.std(y)\n",
    "\n",
    "#Standard Variation\n",
    "X_var = np.var(X)\n",
    "y_std = np.std(y)"
   ]
  },
  {
   "cell_type": "code",
   "execution_count": 176,
   "id": "c31df403",
   "metadata": {},
   "outputs": [
    {
     "data": {
      "image/png": "[encoded data removed]",
      "text/plain": [
       "<Figure size 432x288 with 1 Axes>"
      ]
     },
     "metadata": {
      "needs_background": "light"
     },
     "output_type": "display_data"
    }
   ],
   "source": [
    "plt.plot(X, y, '*');\n",
    "plt.plot(X_avg, y_avg, 'x');\n",
    "plt.show()"
   ]
  },
  {
   "cell_type": "markdown",
   "id": "55714cd9",
   "metadata": {},
   "source": [
    "# Finding the coefficients a and b from the linear function y = a * X + b\n",
    "\n",
    "In order to find a and b we need to solve this ecuation\n",
    "\n",
    "\n",
    "$$\\begin{bmatrix} a \\\\ b \\end{bmatrix} = \\begin{bmatrix} sum(X^2) & sum(X) \\\\ sum(X) & N \\end{bmatrix}^{-1} \\cdot \\begin{bmatrix} sum(X \\cdot y) \\\\ sum(y) \\end{bmatrix}$$\n",
    "\n",
    "where \n",
    "$$sum(X) = \\sum_{k=0}^{N} x $$\n",
    "$$sum(y) = \\sum_{k=0}^{N} \\ y$$\n",
    "$$sum(X \\cdot y)= \\sum_{k=0}^{N} \\ x \\cdot y$$\n",
    "$$sum(X^2)= \\sum_{k=0}^{N} \\ x^2 $$\n",
    "\n",
    "          \n",
    "\n",
    "* and N is the lenght of the X."
   ]
  },
  {
   "cell_type": "code",
   "execution_count": 177,
   "id": "9ff3f5cd",
   "metadata": {},
   "outputs": [
    {
     "data": {
      "text/plain": [
       "array([[4014200,    7640],\n",
       "       [   7640,      18]])"
      ]
     },
     "execution_count": 177,
     "metadata": {},
     "output_type": "execute_result"
    }
   ],
   "source": [
    "A = np.array([[np.sum(X*X), np.sum(X)], [np.sum(X), X.size]])\n",
    "A"
   ]
  },
  {
   "cell_type": "code",
   "execution_count": 178,
   "id": "612895dd",
   "metadata": {},
   "outputs": [
    {
     "data": {
      "text/plain": [
       "array([[413750],\n",
       "       [   806]])"
      ]
     },
     "execution_count": 178,
     "metadata": {},
     "output_type": "execute_result"
    }
   ],
   "source": [
    "B = np.array([[np.sum(X*y)],[np.sum(y)]])\n",
    "B"
   ]
  },
  {
   "cell_type": "code",
   "execution_count": 179,
   "id": "e86388a9",
   "metadata": {},
   "outputs": [
    {
     "data": {
      "text/plain": [
       "array([[0.09287484],\n",
       "       [5.35756877]])"
      ]
     },
     "execution_count": 179,
     "metadata": {},
     "output_type": "execute_result"
    }
   ],
   "source": [
    "from numpy.linalg import inv\n",
    "Ainv = inv(A)\n",
    "Coef = np.dot(Ainv, B)\n",
    "Coef"
   ]
  },
  {
   "cell_type": "code",
   "execution_count": 180,
   "id": "00523c3f",
   "metadata": {},
   "outputs": [],
   "source": [
    "a = Coef[0]\n",
    "b = Coef[1]"
   ]
  },
  {
   "cell_type": "code",
   "execution_count": 181,
   "id": "e891483c",
   "metadata": {},
   "outputs": [],
   "source": [
    "# Building the function \n",
    "y_regression = (a * X) + b"
   ]
  },
  {
   "cell_type": "code",
   "execution_count": 182,
   "id": "78b79261",
   "metadata": {},
   "outputs": [
    {
     "data": {
      "image/png": "[encoded data removed]",
      "text/plain": [
       "<Figure size 432x288 with 1 Axes>"
      ]
     },
     "metadata": {
      "needs_background": "light"
     },
     "output_type": "display_data"
    }
   ],
   "source": [
    "plt.plot(X, y, '*');\n",
    "plt.plot(X_avg, y_avg, 'x');\n",
    "plt.plot(X, y_regression)\n",
    "plt.show()"
   ]
  },
  {
   "cell_type": "markdown",
   "id": "8c83ac54",
   "metadata": {},
   "source": [
    "### Finding the next value based on the function that we calculated above"
   ]
  },
  {
   "cell_type": "code",
   "execution_count": 183,
   "id": "69c0defb",
   "metadata": {},
   "outputs": [
    {
     "data": {
      "text/plain": [
       "18"
      ]
     },
     "execution_count": 183,
     "metadata": {},
     "output_type": "execute_result"
    }
   ],
   "source": [
    "len(X)"
   ]
  },
  {
   "cell_type": "code",
   "execution_count": 184,
   "id": "00361a4d",
   "metadata": {},
   "outputs": [],
   "source": [
    "X = np.append(X, [850])"
   ]
  },
  {
   "cell_type": "code",
   "execution_count": 185,
   "id": "2f248fac",
   "metadata": {},
   "outputs": [
    {
     "data": {
      "text/plain": [
       "19"
      ]
     },
     "execution_count": 185,
     "metadata": {},
     "output_type": "execute_result"
    }
   ],
   "source": [
    "len(X)"
   ]
  },
  {
   "cell_type": "code",
   "execution_count": 186,
   "id": "efdff2e2",
   "metadata": {},
   "outputs": [
    {
     "data": {
      "text/plain": [
       "array([84.30118105])"
      ]
     },
     "execution_count": 186,
     "metadata": {},
     "output_type": "execute_result"
    }
   ],
   "source": [
    "y_regression_test = a * X[18] + b\n",
    "y_regression_test"
   ]
  },
  {
   "cell_type": "code",
   "execution_count": 187,
   "id": "8e3e09c3",
   "metadata": {},
   "outputs": [
    {
     "data": {
      "text/plain": [
       "850"
      ]
     },
     "execution_count": 187,
     "metadata": {},
     "output_type": "execute_result"
    }
   ],
   "source": [
    "X[18]"
   ]
  },
  {
   "cell_type": "code",
   "execution_count": 188,
   "id": "7b7b0ff5",
   "metadata": {},
   "outputs": [],
   "source": [
    "y = np.append(y, y_regression_test)"
   ]
  },
  {
   "cell_type": "code",
   "execution_count": 189,
   "id": "038c30d5",
   "metadata": {},
   "outputs": [],
   "source": [
    "y_regression = (a * X) + b"
   ]
  },
  {
   "cell_type": "code",
   "execution_count": 190,
   "id": "d3ea5f62",
   "metadata": {},
   "outputs": [
    {
     "data": {
      "text/plain": [
       "(19, 19, 19)"
      ]
     },
     "execution_count": 190,
     "metadata": {},
     "output_type": "execute_result"
    }
   ],
   "source": [
    "len(X), len(y), len(y_regression)"
   ]
  },
  {
   "cell_type": "code",
   "execution_count": 191,
   "id": "368fb5ae",
   "metadata": {},
   "outputs": [
    {
     "data": {
      "image/png": "[encoded data removed]",
      "text/plain": [
       "<Figure size 432x288 with 1 Axes>"
      ]
     },
     "metadata": {
      "needs_background": "light"
     },
     "output_type": "display_data"
    }
   ],
   "source": [
    "plt.plot(X, y, '*');\n",
    "plt.plot(X_avg, y_avg, 'x');\n",
    "plt.plot(X, y_regression)\n",
    "plt.plot(X[18], y[18], 'o')\n",
    "plt.show()"
   ]
  },
  {
   "cell_type": "code",
   "execution_count": null,
   "id": "7e50ed15",
   "metadata": {},
   "outputs": [],
   "source": []
  },
  {
   "cell_type": "code",
   "execution_count": null,
   "id": "a697ea33",
   "metadata": {},
   "outputs": [],
   "source": []
  }
 ],
 "metadata": {
  "kernelspec": {
   "display_name": "Python 3 (ipykernel)",
   "language": "python",
   "name": "python3"
  },
  "language_info": {
   "codemirror_mode": {
    "name": "ipython",
    "version": 3
   },
   "file_extension": ".py",
   "mimetype": "text/x-python",
   "name": "python",
   "nbconvert_exporter": "python",
   "pygments_lexer": "ipython3",
   "version": "3.9.7"
  }
 },
 "nbformat": 4,
 "nbformat_minor": 5
}
